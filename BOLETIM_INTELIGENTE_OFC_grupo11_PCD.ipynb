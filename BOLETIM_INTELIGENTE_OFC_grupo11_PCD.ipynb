{
 "cells": [
  {
   "cell_type": "markdown",
   "id": "bb205c99",
   "metadata": {},
   "source": [
    "# <font color=green><center>BOLETIM INTELIGENTE <br>\n",
    "### <font color=orange><center>HANNEMANN¹, LELIS¹, MOLINETE¹, NUNES¹ <br><br> ¹ Ilum Escola de Ciência (CNPEM)\n",
    "### <font color=red><center> Práticas em Ciências de Dados - GRUPO 11"
   ]
  },
  {
   "cell_type": "markdown",
   "id": "5d6f1f6d",
   "metadata": {},
   "source": [
    "##### Biblioteca de funções para gerar estatísticas do desempenho de uma turma.\n",
    "\n",
    "Para mais detalhes, acesse: https://github.com/leticiaalmnunes/PCD---Boletim"
   ]
  },
  {
   "cell_type": "markdown",
   "id": "e701ea9c",
   "metadata": {},
   "source": [
    "#### PADRONIZAÇÃO\n",
    "* Todas as disciplinas terão 3 notas: uma referente às atividades e duas referentes às provas.<br>\n",
    "* A lista de alunos de uma turma precisa ser a mesma em todas as matérias<br><br>\n",
    "A: 9,0 - 10,0<br>\n",
    "B: 8,0 - 8,9<br>\n",
    "C: 7,0 - 7,9<br>\n",
    "D: 0,0 - 6,9<br>"
   ]
  },
  {
   "cell_type": "code",
   "execution_count": 1,
   "id": "f0b2f568",
   "metadata": {},
   "outputs": [],
   "source": [
    "# É necessário que todas as bibliotecas a seguir sejam importados para que o código funcione plenamente\n",
    "\n",
    "from os import getcwd\n",
    "import pandas as pd\n",
    "import numpy as np\n",
    "import matplotlib\n",
    "import matplotlib.pyplot as plt\n",
    "import plotly    \n",
    "import plotly.graph_objects as go\n",
    "from collections import Counter\n",
    "from operator import itemgetter as igt\n",
    "import statistics as sttcs"
   ]
  },
  {
   "cell_type": "markdown",
   "id": "b50d07b9",
   "metadata": {},
   "source": [
    "### ° FUNÇÃO PARA CRIAR O DICIONÁRIO PRINCIPAL"
   ]
  },
  {
   "cell_type": "code",
   "execution_count": 15,
   "id": "3d1c705a",
   "metadata": {},
   "outputs": [],
   "source": [
    "def cria_turma(numero_de_disciplinas, numero_de_alunos):\n",
    "    \"\"\" Essa função cria dicionários cujas chaves são os nomes das disciplinas e os valores:\n",
    "    dicionarios cujas chaves são os alunos e os valores suas notas.\n",
    "    !!!Não esqueça de colocar a função para rodar em uma variável!!! Ex.: TURMA24 = cria_turma(5,20)\"\"\"\n",
    "    \n",
    "    lista_alunos=[]\n",
    "    dicionario={}\n",
    "    c=0\n",
    "    \n",
    "    while c<numero_de_alunos:\n",
    "        lista_alunos.append(str(input('Aluno:')).upper())\n",
    "        c+=1\n",
    "        \n",
    "    lista_alunos.sort()\n",
    "    \n",
    "    c=0\n",
    "    while c<numero_de_disciplinas:\n",
    "        dicionario.update({ str(input('Disciplina:').upper()): {} })\n",
    "        c+=1\n",
    "    \n",
    "    for disciplina in dicionario:\n",
    "        for aluno in lista_alunos:\n",
    "            dicionario[disciplina].update({aluno:{'Prova 1':0,'Prova 2':0,'Atividades':0}})    \n",
    "            \n",
    "    return dicionario"
   ]
  },
  {
   "cell_type": "code",
   "execution_count": null,
   "id": "286d5eaa",
   "metadata": {},
   "outputs": [],
   "source": [
    "TURMA00 = cria_turma(numero_de_disciplinas, numero_de_alunos) # PREENCHER"
   ]
  },
  {
   "cell_type": "markdown",
   "id": "d8cacb61",
   "metadata": {},
   "source": [
    "### ° FUNÇÕES OPERACIONAIS"
   ]
  },
  {
   "cell_type": "code",
   "execution_count": 8,
   "id": "08adb3e0",
   "metadata": {},
   "outputs": [],
   "source": [
    "def inserir_nota_TURMA_TODAS(turma,disciplina):\n",
    "    \"\"\"Use essa função para alterar as três notas de toda a turma.\"\"\"\n",
    "    \n",
    "    for aluno in turma[disciplina].keys():\n",
    "        for avaliação, nota in turma[disciplina][aluno].items():\n",
    "            turma[disciplina][aluno][avaliação]=float(input(f'Insira a nota de {aluno} em {avaliação}:'))"
   ]
  },
  {
   "cell_type": "code",
   "execution_count": 8,
   "id": "0797525c",
   "metadata": {},
   "outputs": [],
   "source": [
    "def inserir_nota_ALUNO_TODAS(turma,disciplina, aluno):\n",
    "    \"\"\"Use essa função para alterar as 3 notas de um único aluno.\n",
    "    No argumento digite o nome do aluno exatamente como no registro.\"\"\"\n",
    "    \n",
    "    for avaliação, nota in turma[disciplina][aluno].items():\n",
    "        turma[disciplina][aluno][avaliação]=float(input(f'Insira a nota de {aluno} em {avaliação}:'))"
   ]
  },
  {
   "cell_type": "code",
   "execution_count": 9,
   "id": "a1006184",
   "metadata": {},
   "outputs": [],
   "source": [
    "def inserir_nota_TURMA_UNICA(turma,disciplina, avaliação):\n",
    "    \"\"\"Use essa função para alterar a nota de toda a turma para uma única avaliação.\"\"\"\n",
    "    \n",
    "    for aluno, notas in turma[disciplina].items():\n",
    "        print (aluno, notas)\n",
    "        notas[avaliação]=float(input(f'Nota {avaliação} de {aluno}:'))"
   ]
  },
  {
   "cell_type": "code",
   "execution_count": 10,
   "id": "bebac6fd",
   "metadata": {},
   "outputs": [],
   "source": [
    "def inserir_nota_ALUNO_UNICA(turma,disciplina,aluno,avaliação):\n",
    "    \"\"\"Use essa função para alterar a nota de um único aluno para uma única avaliação.\"\"\"\n",
    "    \n",
    "    turma[disciplina][aluno][avaliação]=float(input(f'Insira a nota de {aluno} em {avaliação}:'))"
   ]
  },
  {
   "cell_type": "code",
   "execution_count": 11,
   "id": "d801e939",
   "metadata": {},
   "outputs": [],
   "source": [
    "def adicionar_aluno (turma,nome_aluno_novo):\n",
    "    \"\"\"Use essa função para adicionar um aluno novo na turma\"\"\"\n",
    "    \n",
    "    for i,k in turma.items():\n",
    "        turma[i].update({nome_aluno_novo:{'Prova 1':0,'Prova 2':0,'Atividades':0}})"
   ]
  },
  {
   "cell_type": "code",
   "execution_count": 12,
   "id": "704e808f",
   "metadata": {},
   "outputs": [],
   "source": [
    "def remover_aluno(turma,aluno):\n",
    "    \"\"\"Use essa função para remover um aluno da turma.\"\"\"\n",
    "    \n",
    "    for i in turma:\n",
    "        del turma[i][aluno]"
   ]
  },
  {
   "cell_type": "markdown",
   "id": "ec2b9927",
   "metadata": {},
   "source": [
    "### ° FUNÇÕES AUXILIARES"
   ]
  },
  {
   "cell_type": "code",
   "execution_count": 10,
   "id": "dc11f4d1",
   "metadata": {},
   "outputs": [],
   "source": [
    "def gera_arquivo(turma,disciplina):\n",
    "    \"\"\"Use essa função para gerar um arquivo com os alunos e suas respectivas médias e conceitos em uma disciplina\"\"\"\n",
    "    \n",
    "    arquivo_de_entrada=(str(input('nome do arquivo'))+'.txt')\n",
    "    \n",
    "    with open(arquivo_de_entrada, 'w') as arquivo:\n",
    "        print('Disciplina',';','Aluno',';','Media',';','Conceito',file=arquivo)\n",
    "        \n",
    "        for  alunos, notas in turma[disciplina].items():\n",
    "            soma=0\n",
    "            for avaliação, nota in notas.items():\n",
    "                soma+=turma[disciplina][alunos][avaliação]\n",
    "            media = soma/3\n",
    "            conceitos=conceito(media)\n",
    "            print(disciplina,';',alunos,';', media,';',conceitos, file=arquivo)\n",
    "            \n",
    "            arquivo_gerado=arquivo_de_entrada\n",
    "            \n",
    "    return arquivo_gerado"
   ]
  },
  {
   "cell_type": "code",
   "execution_count": 16,
   "id": "921fb94d",
   "metadata": {},
   "outputs": [],
   "source": [
    "def aluno (turma,nome):\n",
    "    \"\"\"Use essa função para criar o dicionário dos alunos.\n",
    "    No argumento digite o nome do aluno exatamente como no registro.\"\"\"\n",
    "    \n",
    "    dicio={}\n",
    "    for disciplina in turma:\n",
    "        dicio.update({disciplina:{}})\n",
    "        dicio[disciplina].update(turma[disciplina][nome].copy())\n",
    "    return dicio"
   ]
  },
  {
   "cell_type": "code",
   "execution_count": 36,
   "id": "cbd5576b",
   "metadata": {},
   "outputs": [],
   "source": [
    "def media_alunos(turma, materia):\n",
    "    \"\"\"Use essa função para obter a média de todos os alunos em uma matéria.\"\"\"\n",
    "    \n",
    "    dicio={}\n",
    "    for aluno, notas in turma[materia].items():\n",
    "        soma=0\n",
    "        for prova, nota in notas.items():\n",
    "            soma+=nota\n",
    "        media=round((soma/3),2)\n",
    "        dicio.update({aluno:media})\n",
    "        print(f\"O(a) aluno(a) {aluno} ficou com média {media:.2f} na disciplina {materia}\")\n",
    "        \n",
    "    return dicio"
   ]
  },
  {
   "cell_type": "code",
   "execution_count": 34,
   "id": "be123e88",
   "metadata": {},
   "outputs": [],
   "source": [
    "def media_aluno_materia(turma, disciplina, aluno):\n",
    "    \"\"\"Use essa função para obter a média de um aluno em uma disciplina.\"\"\"\n",
    "    \n",
    "    if disciplina in turma and aluno in turma[disciplina]:\n",
    "        notas = turma[disciplina][aluno].values()\n",
    "        media = round((sum(notas) / len(notas)),2)\n",
    "        print(f\"A média das notas de {aluno} na disciplina {disciplina} foi: {media:.2f}\")\n",
    "        return media\n",
    "    else:\n",
    "        print(f\"Aluno {aluno} ou disciplina {disciplina} não encontrados.\")"
   ]
  },
  {
   "cell_type": "code",
   "execution_count": 35,
   "id": "2a7efaf3",
   "metadata": {},
   "outputs": [],
   "source": [
    "def media_aluno(turma, aluno):\n",
    "    \"\"\"Use essa função para obter a média geral de um aluno\"\"\"\n",
    "    medias=[]\n",
    "    \n",
    "    for disciplina in turma.keys():\n",
    "        medias.append(media_aluno_materia(turma, disciplina, aluno))\n",
    "        \n",
    "    media_uni=round((sum(medias)/len(medias)),2)\n",
    "        \n",
    "    return media_uni"
   ]
  },
  {
   "cell_type": "code",
   "execution_count": 20,
   "id": "ba1c4f0f",
   "metadata": {},
   "outputs": [],
   "source": [
    "def conceito (média):\n",
    "    \"\"\"Use essa função para transformar a média em conceito.\n",
    "    As escalas são: A(9.0-10.0), B(8.0-8.9), C(7.0-7.9) e D (0.0-6.9)\"\"\"\n",
    "    \n",
    "    if média>=9.0:\n",
    "        return 'A'\n",
    "    elif média>=8.0:\n",
    "        return 'B'\n",
    "    elif média>=7.0:\n",
    "        return 'C'\n",
    "    else:\n",
    "        return 'D'"
   ]
  },
  {
   "cell_type": "code",
   "execution_count": 21,
   "id": "29f120ae",
   "metadata": {},
   "outputs": [],
   "source": [
    "def desvio_padrao(turma, disciplina, avaliação):\n",
    "    \"\"\"Use essa função para calcular a média e o desvio padrão de uma avaliação da disciplina.\"\"\"\n",
    "    \n",
    "    notas_prova = []\n",
    "    \n",
    "    for disciplina, alunos in turma.items():\n",
    "        for notas in alunos.values():\n",
    "            notas_prova.append(notas[avaliação])\n",
    "            \n",
    "    media_prova = round(sum(notas_prova) / len(notas_prova),2)\n",
    "    desvio_prova = round(np.std(notas_prova),2)\n",
    "    \n",
    "    return (print(f\"\"\"A média da {avaliação} foi: {media_prova}\n",
    "O desvio padrão da {avaliação} foi: {desvio_prova}\"\"\"))"
   ]
  },
  {
   "cell_type": "code",
   "execution_count": 22,
   "id": "952716e0",
   "metadata": {},
   "outputs": [],
   "source": [
    "def ranking(turma, disciplina):\n",
    "    \"\"\"Use essa função para retornar o ranking dos alunos em uma disciplina\"\"\"\n",
    "\n",
    "    dicio=media_alunos(turma,disciplina)\n",
    "    \n",
    "    ranking=sorted(dicio.items(),key=igt(1),reverse=True)\n",
    "\n",
    "    print(f\" Maior nota:{ranking[0][1]}, menor nota:{ranking[-1][1]}, mediana:{sttcs.median(ranking)[1]} \")\n",
    "    print(\"=== RANKING TURMA24 ===\")\n",
    "    for i, v in enumerate(ranking):\n",
    "        print(f'{i+1}º lugar: {v[1]} ({v[0]})')\n",
    "    \n",
    "    return ranking"
   ]
  },
  {
   "cell_type": "code",
   "execution_count": 23,
   "id": "88eec2e2",
   "metadata": {},
   "outputs": [],
   "source": [
    "def recuperação(turma, aluno):\n",
    "    \"\"\"Use essa função para retornar em quais matérias o aluno ficou de recuperação.\"\"\"\n",
    "    rec=[]\n",
    "    for disciplina, alunos in turma.items():\n",
    "        if media_aluno_materia(turma, disciplina, aluno)<7.0:\n",
    "            rec.append(disciplina)\n",
    "    if len(rec)>0:\n",
    "        return (f'!!! RECUPERAÇÃO: {rec}!!!')\n",
    "    else:\n",
    "        return (print(\"\"\"APROVAD@ EM TODAS AS DISCIPLINAS.\n",
    "        PARABÉNS!!!\"\"\"))"
   ]
  },
  {
   "cell_type": "markdown",
   "id": "7627efdc",
   "metadata": {},
   "source": [
    "### ° GRÁFICOS"
   ]
  },
  {
   "cell_type": "markdown",
   "id": "0accb84f",
   "metadata": {},
   "source": [
    "#### - ALUNO"
   ]
  },
  {
   "cell_type": "code",
   "execution_count": 3,
   "id": "6f6333c4",
   "metadata": {},
   "outputs": [],
   "source": [
    "def barras_aluno(turma,nome):\n",
    "    \"\"\"Use essa função para obter um gráfico de barras das médias de um aluno.\"\"\"\n",
    "    \n",
    "    notas = aluno(turma,nome)\n",
    "    lista_notas = []\n",
    "    media_notas = []\n",
    "    \n",
    "    for i,k in notas.items(): # forma a lista de notas em cada avaliação de cada matéria\n",
    "        valores = []\n",
    "        for j in k.values():\n",
    "            valores.append(j)\n",
    "        lista_notas.append(valores)\n",
    "    \n",
    "    for i in lista_notas: # forma lista de médias\n",
    "        m = round(np.mean(i), 2)\n",
    "        media_notas.append(m)\n",
    "    \n",
    "    media_geral = round(np.mean(media_notas), 2) # legenda de média e conceito gerais\n",
    "    conceito_final = conceito(media_geral)\n",
    "    media_geral_str = str(media_geral)\n",
    "    \n",
    "    sub_titulo_pre = 'Média geral: !                     Conceito final: ?'\n",
    "    sub_titulo_pos = ''\n",
    "    itens_subst = '!?'\n",
    "    for i in sub_titulo_pre:\n",
    "        if i not in itens_subst:\n",
    "            sub_titulo_pos += i\n",
    "        elif i == '!':\n",
    "            sub_titulo_pos += media_geral_str\n",
    "        elif i == '?':\n",
    "            sub_titulo_pos += conceito_final\n",
    "            \n",
    "    hover_text = [] # definição do texto flutuante\n",
    "\n",
    "    k = -1\n",
    "    for i in lista_notas:\n",
    "        k += 1\n",
    "        valores = str(i)\n",
    "        media = str(media_notas[k])\n",
    "        removidos = \", []\"\n",
    "        valores_corrigidos = \"\"\n",
    "        valores_corrigidos += 'Média: '\n",
    "        valores_corrigidos += media\n",
    "        valores_corrigidos += '<br>'\n",
    "        numero_prova = 0\n",
    "        for j in valores:\n",
    "            if j not in removidos:\n",
    "                valores_corrigidos += j\n",
    "            elif j == ',':\n",
    "                valores_corrigidos += '<br>'\n",
    "            elif j == \" \" or j == \"[\":\n",
    "                numero_prova += 1\n",
    "                if numero_prova == 1:\n",
    "                    valores_corrigidos += 'Prova 1: '\n",
    "                elif numero_prova == 2:\n",
    "                    valores_corrigidos += 'Prova 2: '\n",
    "                else:\n",
    "                    valores_corrigidos += 'Atividades: '\n",
    "        hover_text.append(valores_corrigidos)\n",
    "    \n",
    "    # plotagem!\n",
    "    fig = go.Figure(\n",
    "        data = go.Bar(\n",
    "            x = list(notas.keys()),\n",
    "            y = media_notas,\n",
    "            marker = dict(color = media_notas,colorscale = 'rdylgn',cmin = 0,cmax = 10,colorbar = dict(title = ' ',\n",
    "                    tickfont = dict(family='Times New Roman',size=14,color='black',)))))\n",
    "    \n",
    "    # colocando os textos dos gráficos\n",
    "    fig.update_layout(\n",
    "        title = 'Médias finais', title_font = dict(family = 'Times New Roman',size = 24,color = 'black',),\n",
    "        title_x = 0.5,title_y = 0.9,yaxis_range = [0,10],yaxis_title = 'Média',\n",
    "        yaxis_title_font = dict(family = 'Times New Roman',size = 18,color = 'black',),\n",
    "        yaxis_tickfont = dict(family = 'Times New Roman',size = 14,color = 'black'),\n",
    "        xaxis_title = sub_titulo_pos, xaxis_title_font = dict(family = 'Times New Roman',size = 18,color = 'black'),\n",
    "        xaxis_tickfont = dict(family = 'Times New Roman',size = 14,color = 'black',))\n",
    "    \n",
    "    fig.update_yaxes(tickvals=[0, 7, 8, 9], ticktext=[\"D\", 'C', 'B', 'A']) # definindo a escala em conceitos\n",
    "    \n",
    "    # colocando o texto flutuante no gráfico\n",
    "    fig.data[0].hovertext = hover_text\n",
    "    fig.update_traces(hoverlabel_font=dict(family='Times New Roman', size=14,))\n",
    "    \n",
    "    fig.show() # mostrando o gráfico"
   ]
  },
  {
   "cell_type": "code",
   "execution_count": 4,
   "id": "d2d009eb",
   "metadata": {},
   "outputs": [],
   "source": [
    "def pizza_aluno(turma, nome):\n",
    "    \"\"\"Use essa função para obter um gráfico de pizza dos conceitos de um aluno.\"\"\"\n",
    "    \n",
    "    notas = aluno(turma, nome) # definindo as médias\n",
    "    media_notas = []\n",
    "    \n",
    "    for i,k in notas.items(): \n",
    "        valores = []\n",
    "        for j in k.values():\n",
    "            valores.append(j)\n",
    "        m = round(np.mean(valores), 2)\n",
    "        media_notas.append(m)\n",
    "    \n",
    "    lista_conceitos = [] # tranformando em conceitos\n",
    "    for i in media_notas:\n",
    "        lista_conceitos.append(conceito(i))\n",
    "\n",
    "    frequencias = [0,0,0,0] # coletando a frequência de cada conceito\n",
    "    for j in lista_conceitos:\n",
    "        if j == \"A\":\n",
    "            frequencias[0] += 1\n",
    "        elif j == \"B\":\n",
    "            frequencias[1] += 1\n",
    "        elif j == \"C\":\n",
    "            frequencias[2] += 1\n",
    "        elif j == \"D\":\n",
    "            frequencias[3] += 1\n",
    "\n",
    "    # plotando!\n",
    "    fig = go.Figure(\n",
    "        data = [go.Pie(\n",
    "            labels = ['A','B','C','D'],\n",
    "            values = frequencias)])\n",
    "\n",
    "    # colocando a parte textual (na fonte certa)\n",
    "    fig.update_layout(title = 'Distribuição de Notas',\n",
    "                      title_font = dict(family='Times New Roman',size=24,color='black'),\n",
    "                      title_x = 0.5,title_y = 0.9,\n",
    "                      font = dict(family = 'Times New Roman',size = 16),\n",
    "                      legend = dict(x = 0.04,y = 0.5),\n",
    "                      width = 800,height = 500)\n",
    "\n",
    "    colors = {'A': 'rgb(2, 108, 57)','B': 'rgb(60, 168, 88)','C': 'rgb(191, 228, 122)','D': 'rgb(250, 151, 86)'}\n",
    "    \n",
    "    fig.update_traces(hoverinfo = 'value+percent',textinfo = 'label',textfont_size = 18,\n",
    "                      marker = dict(colors = [colors[conceito] for conceito in ['A','B','C','D']]),\n",
    "                      hoverlabel_font = dict(family = 'Times New Roman', size = 18))\n",
    "\n",
    "    fig.show() # Show the plot"
   ]
  },
  {
   "cell_type": "markdown",
   "id": "c910b51c",
   "metadata": {},
   "source": [
    "#### - PROFESSOR"
   ]
  },
  {
   "cell_type": "code",
   "execution_count": 5,
   "id": "d142bec9",
   "metadata": {},
   "outputs": [],
   "source": [
    "def histograma_médias(turma,disciplina, tabela=True):\n",
    "    \"\"\"Use essa função para gerar uma tabela e um histograma com as médias da turma em uma disciplina.\n",
    "    Caso queira visualizar apenas o histograma, adicione o argumento 'tabela=False'.\"\"\"\n",
    "    \n",
    "    pd.options.plotting.backend = \"plotly\"\n",
    "    media=gera_arquivo(turma,disciplina)\n",
    "    local=getcwd()+'\\\\'+media\n",
    "    \n",
    "    with open(local, encoding = 'utf_8', errors = 'ignore') as valores:\n",
    "        dados=pd.read_csv(valores, sep=';')\n",
    "    if tabela==True:\n",
    "        print(dados)\n",
    "        \n",
    "    return dados.plot(kind='hist', x=' Media ')"
   ]
  },
  {
   "cell_type": "code",
   "execution_count": 6,
   "id": "a4c15b50",
   "metadata": {},
   "outputs": [],
   "source": [
    "def histograma_conceitos(turma,disciplina, tabela=True):\n",
    "    \"\"\"Use essa função para gerar uma tabela e um histograma com os conceitos da turma em uma disciplina.\n",
    "    Caso queira visualizar apenas o histograma, adicione o argumento 'tabela=False'.\"\"\"\n",
    "    \n",
    "    pd.options.plotting.backend = \"plotly\"\n",
    "    media=gera_arquivo(turma,disciplina)\n",
    "    local=getcwd()+'\\\\'+media\n",
    "    \n",
    "    with open(local, encoding = 'utf_8', errors = 'ignore') as valores:\n",
    "        dados=pd.read_csv(valores, sep=';')\n",
    "    if tabela==True:\n",
    "        print(dados)\n",
    "        \n",
    "    return dados.plot(kind='hist', x=' Conceito')"
   ]
  },
  {
   "cell_type": "code",
   "execution_count": 7,
   "id": "1b516005",
   "metadata": {},
   "outputs": [],
   "source": [
    "def distribuicao_de_notas(turma, disciplina, avaliação):\n",
    "    \"\"\"Use essa função para gerar um gráfico com a distribuição das notas dos alunos em uma prova da disciplina.\"\"\"\n",
    "    \n",
    "    prova = []\n",
    "    \n",
    "    for materia, alunos in turma.items():\n",
    "        if materia == disciplina:\n",
    "            for notas in alunos.values():\n",
    "                prova.append(notas[avaliação])\n",
    "                \n",
    "    cont_notas = Counter(prova)\n",
    "    notas_eixo_x = list(range(11))\n",
    "    cont_alunos = [cont_notas.get(nota, 0) for nota in notas_eixo_x]\n",
    "    plt.bar(notas_eixo_x, cont_alunos)\n",
    "    \n",
    "    plt.xlabel('Notas')\n",
    "    plt.ylabel('Quantidade de Alunos')\n",
    "    plt.title(f'Distribuição das Notas - {avaliação} de {disciplina}')\n",
    "    \n",
    "    plt.xticks(notas_eixo_x)\n",
    "    plt.yticks(cont_alunos)\n",
    "    \n",
    "    return plt.show()"
   ]
  }
 ],
 "metadata": {
  "kernelspec": {
   "display_name": "ilumpy",
   "language": "python",
   "name": "ilumpy"
  },
  "language_info": {
   "codemirror_mode": {
    "name": "ipython",
    "version": 3
   },
   "file_extension": ".py",
   "mimetype": "text/x-python",
   "name": "python",
   "nbconvert_exporter": "python",
   "pygments_lexer": "ipython3",
   "version": "3.11.6"
  }
 },
 "nbformat": 4,
 "nbformat_minor": 5
}
